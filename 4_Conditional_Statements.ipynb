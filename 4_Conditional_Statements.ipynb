{
 "cells": [
  {
   "cell_type": "markdown",
   "metadata": {},
   "source": [
    "### **Conditional Statements**"
   ]
  },
  {
   "cell_type": "markdown",
   "metadata": {},
   "source": [
    "*if*, *elif*, and *else* are conditional statements that control the flow of execution based on whether a condition is True or False."
   ]
  },
  {
   "cell_type": "markdown",
   "metadata": {},
   "source": [
    "**Basic Syntax**"
   ]
  },
  {
   "cell_type": "code",
   "execution_count": 3,
   "metadata": {},
   "outputs": [
    {
     "name": "stdout",
     "output_type": "stream",
     "text": [
      "You are an adult.\n"
     ]
    }
   ],
   "source": [
    "age = 18\n",
    "if age >= 18:\n",
    "    print(\"You are an adult.\")\n"
   ]
  },
  {
   "cell_type": "markdown",
   "metadata": {},
   "source": [
    "**If Statement**"
   ]
  },
  {
   "cell_type": "code",
   "execution_count": 4,
   "metadata": {},
   "outputs": [],
   "source": [
    "job_skill = \"Python\"\n",
    "applicant_skill = \"Python\""
   ]
  },
  {
   "cell_type": "code",
   "execution_count": 6,
   "metadata": {},
   "outputs": [
    {
     "name": "stdout",
     "output_type": "stream",
     "text": [
      "Skills matched!\n"
     ]
    }
   ],
   "source": [
    "if job_skill == applicant_skill:\n",
    "    print(\"Skills matched!\")"
   ]
  },
  {
   "cell_type": "markdown",
   "metadata": {},
   "source": [
    "**If-Elif-Else Statement**"
   ]
  },
  {
   "cell_type": "code",
   "execution_count": 9,
   "metadata": {},
   "outputs": [],
   "source": [
    "job_skill = \"Python\"\n",
    "applicant_skill = \"SQL\"\n",
    "years_experience = 6"
   ]
  },
  {
   "cell_type": "code",
   "execution_count": 11,
   "metadata": {},
   "outputs": [
    {
     "name": "stdout",
     "output_type": "stream",
     "text": [
      "You are experienced! No Python needed.\n"
     ]
    }
   ],
   "source": [
    "if job_skill == applicant_skill:\n",
    "    print(\"Skills matched!\")\n",
    "elif years_experience > 5:\n",
    "    print(\"You are experienced! No Python needed.\")\n",
    "else:\n",
    "    print(\"Sorry, you are not qualified.\")\n"
   ]
  },
  {
   "cell_type": "markdown",
   "metadata": {},
   "source": []
  }
 ],
 "metadata": {
  "kernelspec": {
   "display_name": "Python 3",
   "language": "python",
   "name": "python3"
  },
  "language_info": {
   "codemirror_mode": {
    "name": "ipython",
    "version": 3
   },
   "file_extension": ".py",
   "mimetype": "text/x-python",
   "name": "python",
   "nbconvert_exporter": "python",
   "pygments_lexer": "ipython3",
   "version": "3.12.4"
  }
 },
 "nbformat": 4,
 "nbformat_minor": 2
}
