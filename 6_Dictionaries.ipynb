{
 "cells": [
  {
   "cell_type": "markdown",
   "metadata": {},
   "source": [
    "## **Python Dictionaries**\n",
    "\n",
    "Dictionaries in Python are a collection of key-value pairs. They are mutable, which means they can be changed after they are created. They are unordered as of Python 3.6, and as of Python 3.7, they are ordered (meaning the order of items is preserved). Dictionaries are written with curly brackets, and they have keys and values."
   ]
  },
  {
   "cell_type": "markdown",
   "metadata": {},
   "source": [
    "**Creating a Dictionary**\n",
    "You can create a dictionary by placing a comma-separated list of key-value pairs within curly braces, with a colon separating the keys from the values."
   ]
  },
  {
   "cell_type": "code",
   "execution_count": 3,
   "metadata": {},
   "outputs": [
    {
     "name": "stdout",
     "output_type": "stream",
     "text": [
      "{'name': 'Kelash', 'age': 21, 'city': 'Karachi'}\n"
     ]
    }
   ],
   "source": [
    "# Creating a dictionary\n",
    "my_dict = {\"name\": \"Kelash\", \"age\": 21, \"city\": \"Karachi\"}\n",
    "print(my_dict)"
   ]
  },
  {
   "cell_type": "markdown",
   "metadata": {},
   "source": [
    "**Accessing Dictionary Values**\n",
    "You can access the values in a dictionary by using square brackets enclosing the key."
   ]
  },
  {
   "cell_type": "code",
   "execution_count": 4,
   "metadata": {},
   "outputs": [
    {
     "name": "stdout",
     "output_type": "stream",
     "text": [
      "Kelash\n"
     ]
    }
   ],
   "source": [
    "# Accessing item\n",
    "print(my_dict[\"name\"])"
   ]
  },
  {
   "cell_type": "markdown",
   "metadata": {},
   "source": [
    "**Adding and Updating Dictionary**\n",
    "You can add a new key-value pair or update an existing one."
   ]
  },
  {
   "cell_type": "code",
   "execution_count": 5,
   "metadata": {},
   "outputs": [
    {
     "name": "stdout",
     "output_type": "stream",
     "text": [
      "{'name': 'Kelash', 'age': 21, 'city': 'Karachi', 'email': 'kelash@gmail.com'}\n",
      "{'name': 'Kelash', 'age': 24, 'city': 'Karachi', 'email': 'kelash@gmail.com'}\n"
     ]
    }
   ],
   "source": [
    "# Adding a new key-value pair\n",
    "my_dict[\"email\"] = \"kelash@gmail.com\"\n",
    "print(my_dict)\n",
    "\n",
    "# Updating an existing value\n",
    "my_dict[\"age\"] = 24\n",
    "print(my_dict)"
   ]
  },
  {
   "cell_type": "markdown",
   "metadata": {
    "vscode": {
     "languageId": "markdown"
    }
   },
   "source": [
    "**Removing Elements from a Dictionary**\n",
    "You can remove elements using the `del` statement or the `pop()` method."
   ]
  },
  {
   "cell_type": "code",
   "execution_count": 6,
   "metadata": {},
   "outputs": [
    {
     "name": "stdout",
     "output_type": "stream",
     "text": [
      "Removed value: kelash@gmail.com\n",
      "{'name': 'Kelash', 'age': 24, 'city': 'Karachi'}\n",
      "{'name': 'Kelash', 'city': 'Karachi'}\n"
     ]
    }
   ],
   "source": [
    "# Removing item with pop\n",
    "removed_value = my_dict.pop(\"email\")\n",
    "print(f\"Removed value: {removed_value}\")\n",
    "print(my_dict)\n",
    "\n",
    "# Removing item with del\n",
    "del my_dict[\"age\"]\n",
    "print(my_dict)"
   ]
  },
  {
   "cell_type": "markdown",
   "metadata": {
    "vscode": {
     "languageId": "markdown"
    }
   },
   "source": [
    "**Iterating Through a Dictionary**\n",
    "You can iterate through a dictionary using a loop."
   ]
  },
  {
   "cell_type": "code",
   "execution_count": 9,
   "metadata": {},
   "outputs": [
    {
     "name": "stdout",
     "output_type": "stream",
     "text": [
      "name: Kelash\n",
      "city: Karachi\n"
     ]
    }
   ],
   "source": [
    "# Iterating through a dictionary\n",
    "for key, value in my_dict.items():\n",
    "    print(f\"{key}: {value}\")"
   ]
  },
  {
   "cell_type": "markdown",
   "metadata": {},
   "source": [
    "**Dictionary Methods**\n",
    "Dictionaries have various methods that help in performing operations on them."
   ]
  },
  {
   "cell_type": "code",
   "execution_count": 11,
   "metadata": {},
   "outputs": [
    {
     "name": "stdout",
     "output_type": "stream",
     "text": [
      "Email: Not Found\n",
      "Keys: ['name', 'city']\n",
      "Values: ['Kelash', 'Karachi']\n"
     ]
    }
   ],
   "source": [
    "# Using get() to access a value\n",
    "email = my_dict.get(\"email\", \"Not Found\")\n",
    "print(f\"Email: {email}\")\n",
    "\n",
    "# Getting all keys\n",
    "keys = my_dict.keys()\n",
    "print(f\"Keys: {list(keys)}\")\n",
    "\n",
    "# Getting all values\n",
    "values = my_dict.values()\n",
    "print(f\"Values: {list(values)}\")"
   ]
  },
  {
   "cell_type": "markdown",
   "metadata": {},
   "source": [
    "**Nested Dictionaries**\n",
    "A dictionary can contain dictionaries, this is called nested dictionaries."
   ]
  },
  {
   "cell_type": "code",
   "execution_count": 13,
   "metadata": {},
   "outputs": [
    {
     "name": "stdout",
     "output_type": "stream",
     "text": [
      "{'child1': {'name': 'Jai', 'year': 2002}, 'child2': {'name': 'Dani', 'year': 2005}, 'child3': {'name': 'Anu', 'year': 2007}}\n"
     ]
    }
   ],
   "source": [
    "# Nested dictionary\n",
    "my_family = {\n",
    "    \"child1\": {\"name\": \"Jai\", \"year\": 2002},\n",
    "    \"child2\": {\"name\": \"Dani\", \"year\": 2005},\n",
    "    \"child3\": {\"name\": \"Anu\", \"year\": 2007}\n",
    "}\n",
    "\n",
    "print(my_family)"
   ]
  },
  {
   "cell_type": "code",
   "execution_count": null,
   "metadata": {
    "vscode": {
     "languageId": "markdown"
    }
   },
   "outputs": [],
   "source": [
    "## Dictionary Comprehensions\n",
    "\n",
    "Dictionary comprehensions offer a concise way to create dictionaries."
   ]
  },
  {
   "cell_type": "code",
   "execution_count": null,
   "metadata": {},
   "outputs": [],
   "source": [
    "# Dictionary comprehension\n",
    "squares = {x: x*x for x in range(6)}\n",
    "print(squares)"
   ]
  },
  {
   "cell_type": "code",
   "execution_count": null,
   "metadata": {
    "vscode": {
     "languageId": "markdown"
    }
   },
   "outputs": [],
   "source": [
    "This notebook provides a comprehensive overview of dictionaries in Python, including how to create, access, modify, and use dictionary methods and comprehensions."
   ]
  },
  {
   "cell_type": "markdown",
   "metadata": {},
   "source": [
    "\n",
    "\n",
    "\n",
    "\n",
    "\n",
    "\n",
    "\n",
    "\n",
    "\n",
    "\n",
    "\n",
    "\n",
    "\n",
    "\n",
    "\n",
    "\n",
    "\n",
    "\n",
    "\n",
    "\n",
    "\n",
    "\n",
    "\n",
    "\n",
    "\n",
    "\n",
    "\n",
    "\n",
    "\n",
    "\n",
    "\n",
    "\n",
    "\n",
    "\n",
    "\n",
    "\n",
    "--- \n",
    "\n",
    "This structure provides a thorough introduction and guide to working with dictionaries in Python, suitable for a professional Jupyter Notebook."
   ]
  }
 ],
 "metadata": {
  "kernelspec": {
   "display_name": "Python 3",
   "language": "python",
   "name": "python3"
  },
  "language_info": {
   "codemirror_mode": {
    "name": "ipython",
    "version": 3
   },
   "file_extension": ".py",
   "mimetype": "text/x-python",
   "name": "python",
   "nbconvert_exporter": "python",
   "pygments_lexer": "ipython3",
   "version": "3.12.4"
  }
 },
 "nbformat": 4,
 "nbformat_minor": 2
}
