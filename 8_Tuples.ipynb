{
 "cells": [
  {
   "cell_type": "markdown",
   "metadata": {},
   "source": [
    "## **Tuples**\n",
    "\n",
    "Tuples in Python are ordered collections of items, similar to lists. However, unlike lists, tuples are immutable, meaning once a tuple is created, its contents cannot be changed. Tuples are written with round brackets.\n"
   ]
  },
  {
   "cell_type": "markdown",
   "metadata": {},
   "source": [
    "**Creating a Tuple:**\n",
    "\n",
    "Tuples can be created by placing a comma-separated sequence of items inside round brackets `()`."
   ]
  },
  {
   "cell_type": "code",
   "execution_count": 1,
   "metadata": {},
   "outputs": [
    {
     "name": "stdout",
     "output_type": "stream",
     "text": [
      "(1, 2, 3, 4, 5)\n"
     ]
    }
   ],
   "source": [
    "# Creating a tuple\n",
    "my_tuple = (1, 2, 3, 4, 5)\n",
    "print(my_tuple)"
   ]
  },
  {
   "cell_type": "markdown",
   "metadata": {},
   "source": [
    "**Accessing Tuple Elements:**\n",
    "\n",
    "Tuple elements can be accessed by their index, similar to lists. Remember, indexing starts at 0."
   ]
  },
  {
   "cell_type": "code",
   "execution_count": 2,
   "metadata": {},
   "outputs": [
    {
     "name": "stdout",
     "output_type": "stream",
     "text": [
      "2\n",
      "(2, 3, 4)\n"
     ]
    }
   ],
   "source": [
    "# Accessing an element\n",
    "print(my_tuple[1])  # Output: 2\n",
    "\n",
    "# Slicing\n",
    "print(my_tuple[1:4])  # Output: (2, 3, 4)"
   ]
  },
  {
   "cell_type": "markdown",
   "metadata": {},
   "source": [
    "\n",
    "\n",
    "\n",
    " **Immutable Nature of Tuples:**\n",
    "\n",
    "Once a tuple is created, you cannot change its elements. This immutability makes tuples a safe choice for constant data.\n",
    "\n"
   ]
  },
  {
   "cell_type": "code",
   "execution_count": 6,
   "metadata": {},
   "outputs": [
    {
     "ename": "TypeError",
     "evalue": "'tuple' object does not support item assignment",
     "output_type": "error",
     "traceback": [
      "\u001b[1;31m---------------------------------------------------------------------------\u001b[0m",
      "\u001b[1;31mTypeError\u001b[0m                                 Traceback (most recent call last)",
      "Cell \u001b[1;32mIn[6], line 2\u001b[0m\n\u001b[0;32m      1\u001b[0m \u001b[38;5;66;03m# Trying to change an element (This will raise an error)\u001b[39;00m\n\u001b[1;32m----> 2\u001b[0m \u001b[43mmy_tuple\u001b[49m\u001b[43m[\u001b[49m\u001b[38;5;241;43m1\u001b[39;49m\u001b[43m]\u001b[49m \u001b[38;5;241m=\u001b[39m \u001b[38;5;241m10\u001b[39m\n",
      "\u001b[1;31mTypeError\u001b[0m: 'tuple' object does not support item assignment"
     ]
    }
   ],
   "source": [
    "# Trying to change an element (This will raise an error)\n",
    "my_tuple[1] = 10"
   ]
  },
  {
   "cell_type": "markdown",
   "metadata": {},
   "source": [
    "\n",
    "\n",
    "**Tuple Operations:**\n",
    "\n",
    "Tuples support operations like concatenation and repetition."
   ]
  },
  {
   "cell_type": "code",
   "execution_count": 7,
   "metadata": {},
   "outputs": [
    {
     "name": "stdout",
     "output_type": "stream",
     "text": [
      "(1, 2, 3, 4, 5, 6)\n",
      "(1, 2, 3, 1, 2, 3)\n"
     ]
    }
   ],
   "source": [
    "# Concatenation\n",
    "tuple1 = (1, 2, 3)\n",
    "tuple2 = (4, 5, 6)\n",
    "print(tuple1 + tuple2)  # Output: (1, 2, 3, 4, 5, 6)\n",
    "\n",
    "# Repetition\n",
    "print(tuple1 * 2)  # Output: (1, 2, 3, 1, 2, 3)"
   ]
  },
  {
   "cell_type": "markdown",
   "metadata": {},
   "source": [
    "**Tuple Methods**\n",
    "\n",
    "Tuples have fewer methods compared to lists. Some useful ones include `count()` and `index()`."
   ]
  },
  {
   "cell_type": "code",
   "execution_count": null,
   "metadata": {},
   "outputs": [],
   "source": [
    "# Count\n",
    "print(my_tuple.count(3))  # Output: 1\n",
    "\n",
    "# Index\n",
    "print(my_tuple.index(3))  # Output: 2"
   ]
  },
  {
   "cell_type": "markdown",
   "metadata": {},
   "source": [
    "**Tuple Unpacking**\n",
    "\n",
    "Tuple unpacking allows you to assign each element of a tuple to a variable in a single statement."
   ]
  },
  {
   "cell_type": "code",
   "execution_count": null,
   "metadata": {},
   "outputs": [],
   "source": [
    "a, b, c = tuple1\n",
    "print(a, b, c)  # Output: 1 2 3"
   ]
  },
  {
   "cell_type": "markdown",
   "metadata": {},
   "source": [
    "**Nested Tuples**\n",
    "\n",
    "Tuples can contain other tuples (or lists) as elements, creating a nested structure."
   ]
  },
  {
   "cell_type": "code",
   "execution_count": null,
   "metadata": {},
   "outputs": [],
   "source": [
    "nested_tuple = (1, 2, (3, 4), 5)\n",
    "print(nested_tuple[2])  # Output: (3, 4)"
   ]
  },
  {
   "cell_type": "markdown",
   "metadata": {},
   "source": [
    "**Using Tuples in Functions**\n",
    "\n",
    "Tuples can be used as return values from functions. This is useful when you want to return multiple values."
   ]
  },
  {
   "cell_type": "code",
   "execution_count": null,
   "metadata": {},
   "outputs": [],
   "source": [
    "def min_max(items):\n",
    "    return min(items), max(items)\n",
    "\n",
    "result = min_max([1, 2, 3, 4, 5])\n",
    "print(result)  # Output: (1, 5)"
   ]
  },
  {
   "cell_type": "markdown",
   "metadata": {},
   "source": [
    "\n",
    "\n",
    "### **Advantages of Using Tuples**\n",
    "\n",
    "- **Immutability**: Once created, tuples cannot be altered, which is useful for constant data and ensures data integrity.\n",
    "- **Hashable**: Tuples can be used as keys in dictionaries, provided all their elements are also immutable.\n",
    "- **Performance**: Tuples can be slightly faster than lists for certain operations due to their immutability.\n",
    "\n",
    "---\n",
    "\n",
    "This notebook provides a comprehensive overview of tuples in Python, covering how to create, access, and manipulate them, as well as their advantages and use cases.\n",
    "\n",
    "**©KELASH**\n",
    "```"
   ]
  }
 ],
 "metadata": {
  "kernelspec": {
   "display_name": "Python 3",
   "language": "python",
   "name": "python3"
  },
  "language_info": {
   "codemirror_mode": {
    "name": "ipython",
    "version": 3
   },
   "file_extension": ".py",
   "mimetype": "text/x-python",
   "name": "python",
   "nbconvert_exporter": "python",
   "pygments_lexer": "ipython3",
   "version": "3.12.4"
  }
 },
 "nbformat": 4,
 "nbformat_minor": 2
}
