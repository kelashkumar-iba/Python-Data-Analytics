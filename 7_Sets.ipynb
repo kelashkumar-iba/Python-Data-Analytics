{
 "cells": [
  {
   "cell_type": "markdown",
   "metadata": {},
   "source": [
    "## **Python Sets**\n",
    "\n",
    "Sets in Python are collections of unique elements. They are mutable, allowing for the addition and removal of elements after they are created. Sets are unordered, meaning there is no defined order for the elements in a set. Sets are written with curly braces.\n",
    "\n",
    "### **Creating a Set**\n",
    "\n",
    "You can create a set by placing a comma-separated list of elements within curly braces. Note that duplicates are automatically removed."
   ]
  },
  {
   "cell_type": "code",
   "execution_count": 1,
   "metadata": {},
   "outputs": [
    {
     "name": "stdout",
     "output_type": "stream",
     "text": [
      "{1, 2, 3, 4, 5}\n"
     ]
    }
   ],
   "source": [
    "# Creating a set\n",
    "my_set = {1, 2, 3, 4, 4, 5}\n",
    "print(my_set)  # Output: {1, 2, 3, 4, 5}"
   ]
  },
  {
   "cell_type": "markdown",
   "metadata": {},
   "source": [
    "\n",
    "\n",
    "### **Accessing Set Elements**\n",
    "\n",
    "Sets do not support indexing, slicing, or other sequence-like behavior. However, you can iterate through the set using a loop, or check if an element exists using `in`.\n",
    "\n"
   ]
  },
  {
   "cell_type": "code",
   "execution_count": 2,
   "metadata": {},
   "outputs": [
    {
     "name": "stdout",
     "output_type": "stream",
     "text": [
      "1\n",
      "2\n",
      "3\n",
      "4\n",
      "5\n",
      "True\n"
     ]
    }
   ],
   "source": [
    "# Iterating through a set\n",
    "for item in my_set:\n",
    "    print(item)\n",
    "\n",
    "# Check if an element exists\n",
    "print(3 in my_set)  # Output: True"
   ]
  },
  {
   "cell_type": "markdown",
   "metadata": {},
   "source": [
    "\n",
    "\n",
    "### **Adding and Updating Sets**\n",
    "\n",
    "You can add elements to a set using the `add()` method, and you can add multiple elements using the `update()` method.\n",
    "\n"
   ]
  },
  {
   "cell_type": "code",
   "execution_count": 3,
   "metadata": {},
   "outputs": [
    {
     "name": "stdout",
     "output_type": "stream",
     "text": [
      "{1, 2, 3, 4, 5, 6}\n",
      "{1, 2, 3, 4, 5, 6, 7, 8}\n"
     ]
    }
   ],
   "source": [
    "# Adding an element\n",
    "my_set.add(6)\n",
    "print(my_set)\n",
    "\n",
    "# Adding multiple elements\n",
    "my_set.update([7, 8])\n",
    "print(my_set)"
   ]
  },
  {
   "cell_type": "markdown",
   "metadata": {},
   "source": [
    "\n",
    "\n",
    "### **Removing Elements from a Set**\n",
    "\n",
    "Elements can be removed from a set using the `remove()` or `discard()` methods. The `pop()` method removes a random element.\n",
    "\n"
   ]
  },
  {
   "cell_type": "code",
   "execution_count": 4,
   "metadata": {},
   "outputs": [
    {
     "name": "stdout",
     "output_type": "stream",
     "text": [
      "{1, 2, 3, 4, 5, 7, 8}\n",
      "{1, 2, 3, 4, 5, 7}\n",
      "{2, 3, 4, 5, 7}\n"
     ]
    }
   ],
   "source": [
    "# Removing an element\n",
    "my_set.remove(6)\n",
    "print(my_set)\n",
    "\n",
    "# Discard an element\n",
    "my_set.discard(8)\n",
    "print(my_set)\n",
    "\n",
    "# Removing a random element\n",
    "my_set.pop()\n",
    "print(my_set)"
   ]
  },
  {
   "cell_type": "markdown",
   "metadata": {},
   "source": [
    "\n",
    "\n",
    "### **Set Operations**\n",
    "\n",
    "Sets support mathematical operations like union, intersection, difference, and symmetric difference.\n",
    "\n"
   ]
  },
  {
   "cell_type": "code",
   "execution_count": 5,
   "metadata": {},
   "outputs": [
    {
     "name": "stdout",
     "output_type": "stream",
     "text": [
      "{1, 2, 3, 4, 5, 6}\n",
      "{3, 4}\n",
      "{1, 2}\n",
      "{1, 2, 5, 6}\n"
     ]
    }
   ],
   "source": [
    "a = {1, 2, 3, 4}\n",
    "b = {3, 4, 5, 6}\n",
    "\n",
    "# Union\n",
    "print(a | b)  # or a.union(b)\n",
    "\n",
    "# Intersection\n",
    "print(a & b)  # or a.intersection(b)\n",
    "\n",
    "# Difference\n",
    "print(a - b)  # or a.difference(b)\n",
    "\n",
    "# Symmetric Difference\n",
    "print(a ^ b)  # or a.symmetric_difference(b)"
   ]
  },
  {
   "cell_type": "markdown",
   "metadata": {},
   "source": [
    "\n",
    "\n",
    "### **Frozen Sets**\n",
    "\n",
    "Frozen sets are immutable versions of sets. They can be created using the `frozenset()` function.\n",
    "\n"
   ]
  },
  {
   "cell_type": "code",
   "execution_count": null,
   "metadata": {},
   "outputs": [],
   "source": [
    "# Creating a frozen set\n",
    "frozen = frozenset([1, 2, 3, 4])\n",
    "print(frozen)"
   ]
  },
  {
   "cell_type": "markdown",
   "metadata": {},
   "source": [
    "\n",
    "\n",
    "---\n",
    "\n",
    "This notebook provides a comprehensive overview of sets in Python, including how to create, access, modify, and perform operations with sets, as well as using set comprehensions and understanding frozen sets.\n",
    "\n",
    "**©KELASH**\n",
    "```"
   ]
  }
 ],
 "metadata": {
  "kernelspec": {
   "display_name": "Python 3",
   "language": "python",
   "name": "python3"
  },
  "language_info": {
   "codemirror_mode": {
    "name": "ipython",
    "version": 3
   },
   "file_extension": ".py",
   "mimetype": "text/x-python",
   "name": "python",
   "nbconvert_exporter": "python",
   "pygments_lexer": "ipython3",
   "version": "3.12.4"
  }
 },
 "nbformat": 4,
 "nbformat_minor": 2
}
