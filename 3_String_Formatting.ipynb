{
 "cells": [
  {
   "cell_type": "markdown",
   "metadata": {},
   "source": [
    "### **String Formatting**"
   ]
  },
  {
   "cell_type": "markdown",
   "metadata": {},
   "source": [
    "There are so many different formats that can be used to format strings."
   ]
  },
  {
   "cell_type": "markdown",
   "metadata": {},
   "source": [
    "**Older String Formattimg Method**"
   ]
  },
  {
   "cell_type": "code",
   "execution_count": 8,
   "metadata": {},
   "outputs": [
    {
     "name": "stdout",
     "output_type": "stream",
     "text": [
      "Hello, Kelash! You are 21 years old.\n"
     ]
    }
   ],
   "source": [
    "name = \"Kelash\"\n",
    "age = 21\n",
    "message = \"Hello, %s! You are %d years old.\" % (name, age)\n",
    "print(message)"
   ]
  },
  {
   "cell_type": "markdown",
   "metadata": {},
   "source": [
    "**Using str.format() Method**"
   ]
  },
  {
   "cell_type": "markdown",
   "metadata": {},
   "source": [
    "This method is more flexible and powerful than the % operator."
   ]
  },
  {
   "cell_type": "code",
   "execution_count": 9,
   "metadata": {},
   "outputs": [
    {
     "name": "stdout",
     "output_type": "stream",
     "text": [
      "Hello, Ali! You are 25 years old.\n"
     ]
    }
   ],
   "source": [
    "name = \"Ali\"\n",
    "age = 25\n",
    "message = \"Hello, {}! You are {} years old.\".format(name, age)\n",
    "print(message)\n"
   ]
  },
  {
   "cell_type": "markdown",
   "metadata": {},
   "source": [
    "**Keyword arguments in str.format():**"
   ]
  },
  {
   "cell_type": "code",
   "execution_count": 10,
   "metadata": {},
   "outputs": [
    {
     "name": "stdout",
     "output_type": "stream",
     "text": [
      "Hello, Ali! You are 25 years old.\n",
      "Hello, Charlie! You are 20 years old.\n"
     ]
    }
   ],
   "source": [
    "message = \"Hello, {0}! You are {1} years old.\".format(name, age)\n",
    "print(message)\n",
    "\n",
    "message = \"Hello, {name}! You are {age} years old.\".format(name=\"Charlie\", age=20)\n",
    "print(message)\n"
   ]
  },
  {
   "cell_type": "markdown",
   "metadata": {},
   "source": [
    "**Using F-strings (Formatted String Literals)** \"Preferred\""
   ]
  },
  {
   "cell_type": "code",
   "execution_count": 13,
   "metadata": {},
   "outputs": [
    {
     "name": "stdout",
     "output_type": "stream",
     "text": [
      "Hello, Danish! You are 22 years old.\n"
     ]
    }
   ],
   "source": [
    "name = \"Danish\"\n",
    "age = 22\n",
    "message = f\"Hello, {name}! You are {age} years old.\"\n",
    "print(message)\n"
   ]
  },
  {
   "cell_type": "code",
   "execution_count": 14,
   "metadata": {},
   "outputs": [
    {
     "name": "stdout",
     "output_type": "stream",
     "text": [
      "Hello, KELASH! You are 21 years old and your name has 6 characters.\n"
     ]
    }
   ],
   "source": [
    "name = \"Kelash\"\n",
    "age = 21\n",
    "message = f\"Hello, {name.upper()}! You are {age} years old and your name has {len(name)} characters.\"\n",
    "print(message)"
   ]
  },
  {
   "cell_type": "code",
   "execution_count": 17,
   "metadata": {},
   "outputs": [
    {
     "name": "stdout",
     "output_type": "stream",
     "text": [
      "Hi, Kelash! You will be 23 years old at the time of graduation.\n"
     ]
    }
   ],
   "source": [
    "new = f\"Hi, {name.capitalize()}! You will be {age + 2} years old at the time of graduation.\"\n",
    "print(new)"
   ]
  },
  {
   "cell_type": "markdown",
   "metadata": {},
   "source": [
    "**©KELASH**"
   ]
  }
 ],
 "metadata": {
  "kernelspec": {
   "display_name": "Python 3",
   "language": "python",
   "name": "python3"
  },
  "language_info": {
   "codemirror_mode": {
    "name": "ipython",
    "version": 3
   },
   "file_extension": ".py",
   "mimetype": "text/x-python",
   "name": "python",
   "nbconvert_exporter": "python",
   "pygments_lexer": "ipython3",
   "version": "3.12.4"
  }
 },
 "nbformat": 4,
 "nbformat_minor": 2
}
