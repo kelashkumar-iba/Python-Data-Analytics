{
 "cells": [
  {
   "cell_type": "markdown",
   "metadata": {},
   "source": [
    "## Python Collections: Lists, Dictionaries, Sets, and Tuples\n",
    "\n",
    "Python offers a variety of collection types that are suited for different uses. Here we'll explore the fundamental concepts of Lists, Dictionaries, Sets, and Tuples, including their definitions, syntax, key characteristics, and examples.\n",
    "\n",
    "## 1. **Lists**\n",
    "\n",
    "### Definition\n",
    "A list is an ordered collection of items that is mutable (modifiable).\n",
    "\n",
    "### Syntax\n",
    "Lists are defined using square brackets `[]`.\n",
    "\n",
    "### Key Characteristics\n",
    "- Can contain items of different types (e.g., `int`, `str`, `float`).\n",
    "- Supports indexing and slicing.\n",
    "- Common Methods: `append()`, `extend()`, `insert()`, `remove()`, `pop()`, `sort()`, `reverse()`, `index()`, `count()`.\n",
    "\n",
    "### Example"
   ]
  },
  {
   "cell_type": "code",
   "execution_count": 1,
   "metadata": {},
   "outputs": [
    {
     "name": "stdout",
     "output_type": "stream",
     "text": [
      "4\n",
      "[3, 4, 5]\n"
     ]
    }
   ],
   "source": [
    "my_list = [1, 2, 3, 4, 5]\n",
    "my_list.append(6)  # Adds 6 to the end of the list\n",
    "my_list.remove(2)  # Removes the first occurrence of 2\n",
    "print(my_list[2])  # Accesses the third element (indexing starts from 0)\n",
    "print(my_list[1:4])  # Slices the list to get elements from index 1 to 3"
   ]
  },
  {
   "cell_type": "markdown",
   "metadata": {},
   "source": [
    "\n",
    "\n",
    "## 2. **Dictionaries**\n",
    "\n",
    "### Definition\n",
    "A dictionary is an unordered collection of key-value pairs. It is mutable.\n",
    "\n",
    "### Syntax\n",
    "Dictionaries are defined using curly braces `{}` with key-value pairs separated by a colon `:`.\n",
    "\n",
    "### Key Characteristics\n",
    "- Keys must be unique and immutable (e.g., `int`, `str`, `tuple`).\n",
    "- Values can be of any type and can be duplicated.\n",
    "- Common Methods: `keys()`, `values()`, `items()`, `get()`, `update()`, `pop()`, `popitem()`.\n",
    "\n",
    "### Example\n",
    "\n"
   ]
  },
  {
   "cell_type": "code",
   "execution_count": 6,
   "metadata": {},
   "outputs": [
    {
     "name": "stdout",
     "output_type": "stream",
     "text": [
      "Alice\n"
     ]
    }
   ],
   "source": [
    "my_dict = {'name': 'Alice', 'age': 25, 'city': 'New York'}\n",
    "print(my_dict['name'])  # Accesses the value associated with the key 'name'\n",
    "my_dict['age'] = 26  # Modifies the value associated with the key 'age'\n",
    "my_dict['country'] = 'USA'  # Adds a new key-value pair\n",
    "del my_dict['city']  # Deletes the key-value pair with key 'city'"
   ]
  },
  {
   "cell_type": "markdown",
   "metadata": {},
   "source": [
    "\n",
    "\n",
    "## 3. **Sets**\n",
    "\n",
    "### Definition\n",
    "A set is an unordered collection of unique items. It is mutable.\n",
    "\n",
    "### Syntax\n",
    "Sets are defined using curly braces `{}` or the `set()` function.\n",
    "\n",
    "### Key Characteristics\n",
    "- No duplicate elements.\n",
    "- Commonly used for membership testing and eliminating duplicate entries.\n",
    "- Common Methods: `add()`, `remove()`, `discard()`, `pop()`, `clear()`, `union()`, `intersection()`, `difference()`, `symmetric_difference()`.\n",
    "\n",
    "### Example\n",
    "\n"
   ]
  },
  {
   "cell_type": "code",
   "execution_count": 8,
   "metadata": {},
   "outputs": [
    {
     "name": "stdout",
     "output_type": "stream",
     "text": [
      "{1, 2, 4, 5, 6, 7, 8}\n",
      "{4, 5, 6}\n"
     ]
    }
   ],
   "source": [
    "my_set = {1, 2, 3, 4, 5}\n",
    "my_set.add(6)  # Adds 6 to the set\n",
    "my_set.remove(3)  # Removes 3 from the set\n",
    "another_set = {4, 5, 6, 7, 8}\n",
    "print(my_set.union(another_set))  # Union of my_set and another_set\n",
    "print(my_set.intersection(another_set))  # Intersection of my_set and another_set"
   ]
  },
  {
   "cell_type": "markdown",
   "metadata": {},
   "source": [
    "\n",
    "\n",
    "## 4. **Tuples**\n",
    "\n",
    "### Definition\n",
    "A tuple is an ordered collection of items that is immutable (cannot be modified).\n",
    "\n",
    "### Syntax\n",
    "Tuples are defined using parentheses `()`.\n",
    "\n",
    "### Key Characteristics\n",
    "- Can contain items of different types.\n",
    "- Supports indexing and slicing.\n",
    "- Once created, the elements cannot be changed, making them useful for fixed collections of items.\n",
    "\n",
    "### Example\n",
    "\n"
   ]
  },
  {
   "cell_type": "code",
   "execution_count": 1,
   "metadata": {},
   "outputs": [
    {
     "name": "stdout",
     "output_type": "stream",
     "text": [
      "2\n",
      "(2, 3)\n",
      "3\n"
     ]
    }
   ],
   "source": [
    "my_tuple = (1, 2, 3, 4, 5)\n",
    "print(my_tuple[1])  # Accesses the second element\n",
    "print(my_tuple[1:3])  # Slices the tuple to get elements from index 1 to 2\n",
    "# Tuples can be nested\n",
    "nested_tuple = (1, (2, 3), (4, 5, 6))\n",
    "print(nested_tuple[1][1])  # Accesses the second element of the nested tuple"
   ]
  },
  {
   "cell_type": "markdown",
   "metadata": {},
   "source": [
    "\n",
    "\n",
    "## Summary\n",
    "\n",
    "- **Lists**: Ordered, mutable collections of items. Defined with `[]`.\n",
    "- **Dictionaries**: Unordered, mutable collections of key-value pairs. Defined with `{}`.\n",
    "- **Sets**: Unordered, mutable collections of unique items. Defined with `{}` or `set()`.\n",
    "- **Tuples**: Ordered, immutable collections of items. Defined with `()`.\n",
    "\n",
    "Using these concepts, you can handle most basic data structuring needs in Python effectively. Let me know if you need more detailed explanations or examples on any specific topic!\n",
    "```"
   ]
  }
 ],
 "metadata": {
  "kernelspec": {
   "display_name": "Python 3",
   "language": "python",
   "name": "python3"
  },
  "language_info": {
   "codemirror_mode": {
    "name": "ipython",
    "version": 3
   },
   "file_extension": ".py",
   "mimetype": "text/x-python",
   "name": "python",
   "nbconvert_exporter": "python",
   "pygments_lexer": "ipython3",
   "version": "3.12.4"
  }
 },
 "nbformat": 4,
 "nbformat_minor": 2
}
