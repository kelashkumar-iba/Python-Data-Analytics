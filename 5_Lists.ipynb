{
 "cells": [
  {
   "cell_type": "markdown",
   "metadata": {},
   "source": [
    "## **Python Lists**"
   ]
  },
  {
   "cell_type": "markdown",
   "metadata": {},
   "source": [
    "**Notes:**\n",
    "\n",
    "- Used to store multiple ordered items in a single variable.\n",
    "- Created using [ and ].\n",
    "- We won't be going into everything that we can do in a list.\n",
    "- Common data types in lists: Integer, Float, String, Boolean, List, Dictionary, Tuple, Set, Object.\n",
    "- You can include lists within lists.\n",
    "- Easy to store information."
   ]
  },
  {
   "cell_type": "markdown",
   "metadata": {},
   "source": [
    "| Feature           | List                                  | Dictionary                            | Set                                   | Tuple                                 |\n",
    "|-------------------|---------------------------------------|---------------------------------------|---------------------------------------|---------------------------------------|\n",
    "| Definition        | Ordered collection of mutable elements. | Unordered collection of key-value pairs. | Unordered collection of unique elements. | Ordered collection of immutable elements. |\n",
    "| Enclosure         | Square brackets `[]`                  | Curly braces `{}` with colons `:`     | Curly braces `{}`                     | Parentheses `()`                      |\n",
    "| Mutable           | Yes                                   | Yes                                   | Yes                                   | No                                    |\n",
    "| Ordered           | Yes                                   | No                                    | No                                    | Yes                                   |\n",
    "| Allows Duplicates | Yes                                   | Keys: No, Values: Yes                 | No                                    | Yes                                   |\n",
    "| Access by Index   | Yes                                   | No                                    | No                                    | Yes                                   |\n",
    "| Key-Value Pairs   | No                                    | Yes                                   | No                                    | No                                    |\n",
    "\n",
    "**In summary:**\n",
    "- Lists are versatile and allow duplicate elements. They are mutable and ordered, meaning elements can be modified and accessed by index.\n",
    "- Dictionaries are key-value pairs where keys are unique and used to access values. They are mutable and unordered.\n",
    "- Sets are collections of unique elements. They are mutable and unordered, and do not allow duplicates.\n",
    "- Tuples are ordered and immutable, meaning they cannot be modified after creation. They can contain duplicate elements and are accessed by index."
   ]
  },
  {
   "cell_type": "markdown",
   "metadata": {},
   "source": [
    "In Python, a list is a versatile data structure that allows you to store a sequence of items. Lists are mutable, meaning you can modify them after their creation. They can contain items of different types, making them incredibly flexible for various tasks."
   ]
  },
  {
   "cell_type": "code",
   "execution_count": 2,
   "metadata": {},
   "outputs": [
    {
     "name": "stdout",
     "output_type": "stream",
     "text": [
      "[1, 2, 3, 4, 5]\n"
     ]
    }
   ],
   "source": [
    "# Creating a simple list\n",
    "simple_list = [1, 2, 3, 4, 5]\n",
    "print(simple_list)"
   ]
  },
  {
   "cell_type": "markdown",
   "metadata": {},
   "source": [
    "**Accessing List Elements**\n",
    "\n",
    "You can access elements in a list by referring to the index of the item enclosed in square brackets. Remember, Python indexes start at 0."
   ]
  },
  {
   "cell_type": "code",
   "execution_count": 3,
   "metadata": {},
   "outputs": [
    {
     "name": "stdout",
     "output_type": "stream",
     "text": [
      "1\n",
      "5\n"
     ]
    }
   ],
   "source": [
    "# Accessing elements\n",
    "print(simple_list[0])  # First element\n",
    "print(simple_list[-1]) # Last element"
   ]
  },
  {
   "cell_type": "markdown",
   "metadata": {},
   "source": [
    "**Lists Are Mutable**\n",
    "\n",
    "One of the key features of lists is that they are mutable, meaning you can change their content without changing their identity."
   ]
  },
  {
   "cell_type": "code",
   "execution_count": 4,
   "metadata": {},
   "outputs": [
    {
     "name": "stdout",
     "output_type": "stream",
     "text": [
      "[1, 2, 10, 4, 5]\n",
      "[1, 2, 10, 4, 5, 6]\n",
      "[1, 10, 4, 5, 6]\n"
     ]
    }
   ],
   "source": [
    "# Modifying elements\n",
    "simple_list[2] = 10\n",
    "print(simple_list)\n",
    "\n",
    "# Adding elements\n",
    "simple_list.append(6)\n",
    "print(simple_list)\n",
    "\n",
    "# Removing elements\n",
    "simple_list.remove(2)\n",
    "print(simple_list)"
   ]
  },
  {
   "cell_type": "markdown",
   "metadata": {},
   "source": [
    "**Different Data Types**\n",
    "\n",
    "Lists can contain elements of different data types, including other lists."
   ]
  },
  {
   "cell_type": "code",
   "execution_count": 5,
   "metadata": {},
   "outputs": [
    {
     "name": "stdout",
     "output_type": "stream",
     "text": [
      "[1, 'hello', True, 3.14]\n",
      "[[1, 2, 3], [4, 5, 6], [7, 8, 9]]\n"
     ]
    }
   ],
   "source": [
    "# Mixed data types\n",
    "mixed_list = [1, \"hello\", True, 3.14]\n",
    "print(mixed_list)\n",
    "\n",
    "# Nested lists\n",
    "nested_list = [[1, 2, 3], [4, 5, 6], [7, 8, 9]]\n",
    "print(nested_list)"
   ]
  },
  {
   "cell_type": "markdown",
   "metadata": {},
   "source": [
    "**List Slicing in Python**\n",
    "\n",
    "List slicing is a powerful feature in Python that allows you to access a subset of list items with ease. It works by specifying a start index and an end index, separated by a colon `:`, within square brackets. Python will return a new list containing items from the start index up to, but not including, the end index. You can also specify a step, which allows you to skip items in the slice.\n",
    "\n",
    "Here's a simple breakdown of the syntax:\n",
    "\n",
    "- `list[start:end]`: Get all items from `start` to `end-1`.\n",
    "- `list[start:end:step]`: Get all items from `start` to `end-1`, skipping items with a step of `step`.\n",
    "- If `start` is omitted, slicing starts from the beginning of the list.\n",
    "- If `end` is omitted, slicing goes to the end of the list.\n",
    "- Negative indices can be used to start the slice from the end of the list."
   ]
  },
  {
   "cell_type": "code",
   "execution_count": 1,
   "metadata": {},
   "outputs": [
    {
     "name": "stdout",
     "output_type": "stream",
     "text": [
      "[2, 3, 4]\n",
      "[1, 3, 5, 7]\n",
      "[0, 1, 2, 3, 4]\n",
      "[5, 6, 7, 8, 9]\n",
      "[6, 7, 8]\n",
      "[0, 2, 4, 6, 8]\n",
      "[9, 8, 7, 6, 5, 4, 3, 2, 1, 0]\n"
     ]
    }
   ],
   "source": [
    "# Creating a list for demonstration\n",
    "my_list = [0, 1, 2, 3, 4, 5, 6, 7, 8, 9]\n",
    "\n",
    "# Basic slicing\n",
    "print(my_list[2:5])  # Output: [2, 3, 4]\n",
    "\n",
    "# Slicing with a step\n",
    "print(my_list[1:8:2])  # Output: [1, 3, 5, 7]\n",
    "\n",
    "# Omitting start index\n",
    "print(my_list[:5])  # Output: [0, 1, 2, 3, 4]\n",
    "\n",
    "# Omitting end index\n",
    "print(my_list[5:])  # Output: [5, 6, 7, 8, 9]\n",
    "\n",
    "# Negative indices\n",
    "print(my_list[-4:-1])  # Output: [6, 7, 8]\n",
    "\n",
    "# Complete list with a step\n",
    "print(my_list[::2])  # Output: [0, 2, 4, 6, 8]\n",
    "\n",
    "# Reversing a list with slicing\n",
    "print(my_list[::-1])  # Output: [9, 8, 7, 6, 5, 4, 3, 2, 1, 0]"
   ]
  },
  {
   "cell_type": "markdown",
   "metadata": {},
   "source": [
    "As you can see, list slicing is a flexible and concise way to access parts of your list. It's particularly useful for tasks like reversing a list, accessing specific segments, or skipping elements in a sequence."
   ]
  },
  {
   "cell_type": "markdown",
   "metadata": {},
   "source": [
    "**Conclusion**\n",
    "\n",
    "This introduction covers the basics of lists in Python, including creation, accessing elements, mutability, and the flexibility of containing different data types. Lists are a fundamental part of Python programming and a stepping stone to more complex data structures and algorithms."
   ]
  },
  {
   "cell_type": "markdown",
   "metadata": {},
   "source": [
    "**©KELASH**"
   ]
  }
 ],
 "metadata": {
  "kernelspec": {
   "display_name": "Python 3",
   "language": "python",
   "name": "python3"
  },
  "language_info": {
   "codemirror_mode": {
    "name": "ipython",
    "version": 3
   },
   "file_extension": ".py",
   "mimetype": "text/x-python",
   "name": "python",
   "nbconvert_exporter": "python",
   "pygments_lexer": "ipython3",
   "version": "3.12.4"
  }
 },
 "nbformat": 4,
 "nbformat_minor": 2
}
