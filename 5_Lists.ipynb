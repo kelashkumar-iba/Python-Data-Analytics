{
 "cells": [
  {
   "cell_type": "markdown",
   "metadata": {},
   "source": [
    "## **Python Lists**"
   ]
  },
  {
   "cell_type": "markdown",
   "metadata": {},
   "source": [
    "**Notes:**\n",
    "\n",
    "- Used to store multiple ordered items in a single variable.\n",
    "- Created using [ and ].\n",
    "- We won't be going into everything that we can do in a list.\n",
    "- Common data types in lists: Integer, Float, String, Boolean, List, Dictionary, Tuple, Set, Object.\n",
    "- You can include lists within lists.\n",
    "- Easy to store information."
   ]
  },
  {
   "cell_type": "markdown",
   "metadata": {},
   "source": [
    "In Python, a list is a versatile data structure that allows you to store a sequence of items. Lists are mutable, meaning you can modify them after their creation. They can contain items of different types, making them incredibly flexible for various tasks."
   ]
  },
  {
   "cell_type": "code",
   "execution_count": 2,
   "metadata": {},
   "outputs": [
    {
     "name": "stdout",
     "output_type": "stream",
     "text": [
      "[1, 2, 3, 4, 5]\n"
     ]
    }
   ],
   "source": [
    "# Creating a simple list\n",
    "simple_list = [1, 2, 3, 4, 5]\n",
    "print(simple_list)"
   ]
  },
  {
   "cell_type": "markdown",
   "metadata": {},
   "source": [
    "**Accessing List Elements**\n",
    "\n",
    "You can access elements in a list by referring to the index of the item enclosed in square brackets. Remember, Python indexes start at 0."
   ]
  },
  {
   "cell_type": "code",
   "execution_count": 3,
   "metadata": {},
   "outputs": [
    {
     "name": "stdout",
     "output_type": "stream",
     "text": [
      "1\n",
      "5\n"
     ]
    }
   ],
   "source": [
    "# Accessing elements\n",
    "print(simple_list[0])  # First element\n",
    "print(simple_list[-1]) # Last element"
   ]
  },
  {
   "cell_type": "code",
   "execution_count": null,
   "metadata": {},
   "outputs": [],
   "source": []
  }
 ],
 "metadata": {
  "kernelspec": {
   "display_name": "Python 3",
   "language": "python",
   "name": "python3"
  },
  "language_info": {
   "codemirror_mode": {
    "name": "ipython",
    "version": 3
   },
   "file_extension": ".py",
   "mimetype": "text/x-python",
   "name": "python",
   "nbconvert_exporter": "python",
   "pygments_lexer": "ipython3",
   "version": "3.12.4"
  }
 },
 "nbformat": 4,
 "nbformat_minor": 2
}
