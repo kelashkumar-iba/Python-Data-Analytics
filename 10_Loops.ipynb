{
 "cells": [
  {
   "cell_type": "markdown",
   "metadata": {},
   "source": [
    "# Loops in Python\n",
    "\n",
    "Loops are one of the fundamental concepts in programming, allowing you to execute a block of code repeatedly. Python provides several types of loops, which can be used to iterate over sequences, perform tasks multiple times, or iterate until a condition is met. This notebook covers the key concepts of loops in Python, including their importance, usage of `enumerate`, `break`, `continue`, and `range` functions, along with practical example questions.\n",
    "\n",
    "## Importance of Loops\n",
    "\n",
    "Loops are crucial for automating repetitive tasks, processing items in a collection, and simplifying complex problems into manageable tasks. They enhance code reusability and readability, making your programs more efficient and shorter.\n",
    "\n",
    "## Types of Loops in Python\n",
    "\n",
    "Python primarily offers two types of loops:\n",
    "\n",
    "- **`for` Loops**: Ideal for iterating over a sequence (such as a list, tuple, dictionary, set, or string).\n",
    "- **`while` Loops**: Executes as long as a condition remains true.\n",
    "\n",
    "## `for` Loop\n",
    "\n",
    "### Syntax\n",
    "\n",
    "```python\n",
    "for element in sequence:\n",
    "    # Do something with element"
   ]
  },
  {
   "cell_type": "markdown",
   "metadata": {},
   "source": [
    "\n",
    "\n",
    "### Example\n",
    "\n"
   ]
  },
  {
   "cell_type": "code",
   "execution_count": 5,
   "metadata": {},
   "outputs": [
    {
     "name": "stdout",
     "output_type": "stream",
     "text": [
      "apple\n",
      "banana\n",
      "cherry\n"
     ]
    }
   ],
   "source": [
    "# Iterating over a list\n",
    "fruits = [\"apple\", \"banana\", \"cherry\"]\n",
    "for fruit in fruits:\n",
    "    print(fruit)"
   ]
  },
  {
   "cell_type": "markdown",
   "metadata": {},
   "source": [
    "\n",
    "\n",
    "## `while` Loop\n",
    "\n",
    "### Syntax\n",
    "\n"
   ]
  },
  {
   "cell_type": "code",
   "execution_count": null,
   "metadata": {},
   "outputs": [],
   "source": [
    "while condition:\n",
    "    # Do something"
   ]
  },
  {
   "cell_type": "markdown",
   "metadata": {},
   "source": [
    "\n",
    "\n",
    "### Example\n",
    "\n"
   ]
  },
  {
   "cell_type": "code",
   "execution_count": 7,
   "metadata": {},
   "outputs": [
    {
     "name": "stdout",
     "output_type": "stream",
     "text": [
      "0\n",
      "1\n",
      "2\n",
      "3\n",
      "4\n"
     ]
    }
   ],
   "source": [
    "# Printing numbers less than 5\n",
    "number = 0\n",
    "while number < 5:\n",
    "    print(number)\n",
    "    number += 1"
   ]
  },
  {
   "cell_type": "markdown",
   "metadata": {},
   "source": [
    "\n",
    "\n",
    "## Using `enumerate` in Loops\n",
    "\n",
    "`enumerate` is useful for getting both the index and the value of items in a sequence during iteration.\n",
    "\n",
    "### Example\n",
    "\n"
   ]
  },
  {
   "cell_type": "code",
   "execution_count": 13,
   "metadata": {},
   "outputs": [
    {
     "name": "stdout",
     "output_type": "stream",
     "text": [
      "0 : apple\n",
      "1 : banana\n",
      "2 : cherry\n"
     ]
    }
   ],
   "source": [
    "fruits = [\"apple\", \"banana\", \"cherry\"]\n",
    "for index, fruit in enumerate(fruits):\n",
    "    print(index,\":\", fruit)"
   ]
  },
  {
   "cell_type": "markdown",
   "metadata": {},
   "source": [
    "\n",
    "\n",
    "## `break` and `continue`\n",
    "\n",
    "- **`break`**: Exits the loop.\n",
    "- **`continue`**: Skips the rest of the code inside the loop for the current iteration and moves to the next iteration.\n",
    "\n",
    "### Example\n",
    "\n"
   ]
  },
  {
   "cell_type": "code",
   "execution_count": 14,
   "metadata": {},
   "outputs": [
    {
     "name": "stdout",
     "output_type": "stream",
     "text": [
      "0\n",
      "1\n",
      "2\n",
      "3\n",
      "4\n",
      "0\n",
      "1\n",
      "2\n",
      "3\n",
      "4\n",
      "6\n",
      "7\n",
      "8\n",
      "9\n"
     ]
    }
   ],
   "source": [
    "# Using break\n",
    "for number in range(10):\n",
    "    if number == 5:\n",
    "        break\n",
    "    print(number)\n",
    "\n",
    "# Using continue\n",
    "for number in range(10):\n",
    "    if number == 5:\n",
    "        continue\n",
    "    print(number)"
   ]
  },
  {
   "cell_type": "markdown",
   "metadata": {},
   "source": [
    "\n",
    "\n",
    "## Using `range` in Loops\n",
    "\n",
    "`range` is often used in loops to generate sequences of numbers.\n",
    "\n",
    "### Example\n",
    "\n"
   ]
  },
  {
   "cell_type": "code",
   "execution_count": 15,
   "metadata": {},
   "outputs": [
    {
     "name": "stdout",
     "output_type": "stream",
     "text": [
      "0\n",
      "1\n",
      "2\n",
      "3\n",
      "4\n"
     ]
    }
   ],
   "source": [
    "# Printing numbers 0 to 4\n",
    "for number in range(5):\n",
    "    print(number)"
   ]
  },
  {
   "cell_type": "markdown",
   "metadata": {},
   "source": [
    "\n",
    "\n",
    "## Practical Example Questions\n",
    "\n",
    "1. **Print all even numbers between 1 and 10.**\n",
    "\n"
   ]
  },
  {
   "cell_type": "code",
   "execution_count": 16,
   "metadata": {},
   "outputs": [
    {
     "name": "stdout",
     "output_type": "stream",
     "text": [
      "2\n",
      "4\n",
      "6\n",
      "8\n",
      "10\n"
     ]
    }
   ],
   "source": [
    "for number in range(1, 11):\n",
    "    if number % 2 == 0:\n",
    "        print(number)"
   ]
  },
  {
   "cell_type": "markdown",
   "metadata": {},
   "source": [
    "\n",
    "\n",
    "2. **Create a list of squares of numbers between 1 and 5.**\n",
    "\n"
   ]
  },
  {
   "cell_type": "code",
   "execution_count": 1,
   "metadata": {},
   "outputs": [
    {
     "name": "stdout",
     "output_type": "stream",
     "text": [
      "[1, 4, 9, 16, 25]\n"
     ]
    }
   ],
   "source": [
    "squares = [number ** 2 for number in range(1, 6)]\n",
    "print(squares)"
   ]
  },
  {
   "cell_type": "code",
   "execution_count": null,
   "metadata": {
    "vscode": {
     "languageId": "markdown"
    }
   },
   "outputs": [],
   "source": [
    "# Advanced Concepts in Python Loops\n",
    "\n",
    "After covering the basics of loops in Python, including `for` and `while` loops, `break`, `continue`, and `enumerate`, let's delve into more advanced concepts that can enhance your loop utilization and overall Python programming skills.\n",
    "\n",
    "## Infinite Loops\n",
    "\n",
    "Infinite loops run indefinitely because their condition never becomes false. They can be intentional or the result of a bug.\n",
    "\n",
    "### Example of an Intentional Infinite Loop\n",
    "\n",
    "```python\n",
    "while True:\n",
    "    user_input = input(\"Enter 'quit' to exit: \")\n",
    "    if user_input == 'quit':\n",
    "        break"
   ]
  },
  {
   "cell_type": "markdown",
   "metadata": {},
   "source": [
    "\n",
    "\n",
    "## Loop Else Clause\n",
    "\n",
    "The `else` clause in a loop executes after the loop completes normally, without hitting a `break`.\n",
    "\n",
    "### Example Using `else` with `for`\n",
    "\n"
   ]
  },
  {
   "cell_type": "code",
   "execution_count": null,
   "metadata": {},
   "outputs": [],
   "source": [
    "for i in range(3):\n",
    "    password = input(\"Enter your password: \")\n",
    "    if password == \"secret\":\n",
    "        print(\"Welcome!\")\n",
    "        break\n",
    "else:\n",
    "    print(\"Attempt limit reached.\")"
   ]
  },
  {
   "cell_type": "markdown",
   "metadata": {},
   "source": [
    "\n",
    "\n",
    "## Iterating Over Multiple Sequences Simultaneously\n",
    "\n",
    "The `zip()` function makes it possible to iterate over two or more sequences in parallel.\n",
    "\n",
    "### Example with `zip()`\n",
    "\n"
   ]
  },
  {
   "cell_type": "code",
   "execution_count": null,
   "metadata": {},
   "outputs": [],
   "source": [
    "names = [\"Jane\", \"John\", \"Doe\"]\n",
    "ages = [23, 34, 45]\n",
    "\n",
    "for name, age in zip(names, ages):\n",
    "    print(f\"{name} is {age} years old.\")"
   ]
  },
  {
   "cell_type": "markdown",
   "metadata": {},
   "source": [
    "\n",
    "\n",
    "## Advanced List Comprehensions\n",
    "\n",
    "List comprehensions can include conditions and even nested comprehensions.\n",
    "\n",
    "### Example with Condition\n",
    "\n"
   ]
  },
  {
   "cell_type": "code",
   "execution_count": null,
   "metadata": {},
   "outputs": [],
   "source": [
    "even_numbers = [x for x in range(10) if x % 2 == 0]\n",
    "print(even_numbers)"
   ]
  },
  {
   "cell_type": "markdown",
   "metadata": {},
   "source": [
    "\n",
    "\n",
    "## Using `iter()` and `next()`\n",
    "\n",
    "Manually iterate over iterable objects using `iter()` and `next()`.\n",
    "\n",
    "### Example of Manual Iteration\n",
    "\n"
   ]
  },
  {
   "cell_type": "code",
   "execution_count": null,
   "metadata": {},
   "outputs": [],
   "source": [
    "iterable = iter([1, 2, 3, 4])\n",
    "while True:\n",
    "    try:\n",
    "        item = next(iterable)\n",
    "        print(item)\n",
    "    except StopIteration:\n",
    "        break"
   ]
  },
  {
   "cell_type": "markdown",
   "metadata": {},
   "source": [
    "\n",
    "\n",
    "## Performance Considerations\n",
    "\n",
    "Optimizing loops can significantly impact the performance of your Python programs.\n",
    "\n",
    "### Tips for Optimizing Loops\n",
    "\n",
    "- Minimize the work inside the loop.\n",
    "- Use list comprehensions for creating lists.\n",
    "- Understand the time complexity of operations within loops.\n",
    "\n",
    "## Looping Techniques in Dictionaries\n",
    "\n",
    "Iterate over dictionaries using `.items()`, `.keys()`, and `.values()`.\n",
    "\n",
    "### Example Iterating Over Dictionary Items\n",
    "\n"
   ]
  },
  {
   "cell_type": "code",
   "execution_count": null,
   "metadata": {},
   "outputs": [],
   "source": [
    "capitals = {\"USA\": \"Washington\", \"France\": \"Paris\", \"Italy\": \"Rome\"}\n",
    "for country, capital in capitals.items():\n",
    "    print(f\"The capital of {country} is {capital}.\")"
   ]
  },
  {
   "cell_type": "markdown",
   "metadata": {},
   "source": [
    "\n",
    "\n",
    "## Comprehensions for Other Data Types\n",
    "\n",
    "Python supports dictionary, set, and generator comprehensions as well.\n",
    "\n",
    "### Example of a Dictionary Comprehension\n",
    "\n"
   ]
  },
  {
   "cell_type": "code",
   "execution_count": null,
   "metadata": {},
   "outputs": [],
   "source": [
    "squares = {x: x*x for x in range(6)}\n",
    "print(squares)"
   ]
  },
  {
   "cell_type": "markdown",
   "metadata": {},
   "source": [
    "\n",
    "\n",
    "## Practical Applications and Examples\n",
    "\n",
    "Loops are essential for tasks like data processing, automation, and more.\n",
    "\n",
    "### Complex Example Combining Multiple Concepts\n",
    "\n"
   ]
  },
  {
   "cell_type": "code",
   "execution_count": null,
   "metadata": {},
   "outputs": [],
   "source": [
    "# Nested loops with break\n",
    "for i in range(1, 4):\n",
    "    for j in range(1, 4):\n",
    "        if i == j:\n",
    "            break\n",
    "        print(f\"i = {i}, j = {j}\")"
   ]
  },
  {
   "cell_type": "markdown",
   "metadata": {},
   "source": [
    "\n",
    "\n",
    "## Common Pitfalls and How to Avoid Them\n",
    "\n",
    "Understanding common mistakes, such as off-by-one errors, can help avoid bugs in loop logic.\n",
    "\n",
    "### Tips for Avoiding Common Mistakes\n",
    "\n",
    "- Double-check loop conditions and boundaries.\n",
    "- Use `range()` carefully, remembering it starts at 0 by default.\n",
    "- Test loops with different inputs to ensure they behave as expected.\n",
    "\n",
    "By mastering these advanced loop concepts and techniques, you can write more efficient, readable, and powerful Python code.\n",
    "```"
   ]
  },
  {
   "cell_type": "markdown",
   "metadata": {},
   "source": [
    "\n",
    "\n",
    "Loops are a powerful tool in Python that can significantly reduce the amount of code you need to write for repetitive tasks. By mastering loops, you can handle data more efficiently and perform complex operations with ease.\n",
    "\n",
    "---\n",
    "\n",
    "**©KELASH**"
   ]
  }
 ],
 "metadata": {
  "kernelspec": {
   "display_name": "Python 3",
   "language": "python",
   "name": "python3"
  },
  "language_info": {
   "codemirror_mode": {
    "name": "ipython",
    "version": 3
   },
   "file_extension": ".py",
   "mimetype": "text/x-python",
   "name": "python",
   "nbconvert_exporter": "python",
   "pygments_lexer": "ipython3",
   "version": "3.12.4"
  }
 },
 "nbformat": 4,
 "nbformat_minor": 2
}
